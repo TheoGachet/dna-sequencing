{
 "cells": [
  {
   "cell_type": "markdown",
   "metadata": {
    "papermill": {
     "duration": 0.032318,
     "end_time": "2021-03-08T09:24:20.588644",
     "exception": false,
     "start_time": "2021-03-08T09:24:20.556326",
     "status": "completed"
    },
    "tags": []
   },
   "source": [
    "# Séquençage de l'ADN grâce au Machine Learning"
   ]
  },
  {
   "cell_type": "markdown",
   "metadata": {},
   "source": [
    "*par Théo Gachet (Janvier 2023)*\n",
    "\n",
    "# Introduction\n",
    "\n",
    "Le génome est la collection de l'ADN d'un organisme. Tous les êtres vivants ont un génome mais la taille de ces derniers peut varier d'une espèce à l'autre. Par exemple, le génome humain comporte 23 chromosomes et chaque chromosome comporte environ 6 milliards de base azotées.\n",
    "\n",
    "Chaque être humain a un génome unique qui lui est propre. Néanmoins, le génome de deux individus ne différe véritablement que d'environ 1%. Les génomes d'une même espèce sont donc en réalité très similaires.\n",
    "\n",
    "L'utilisation du Machine Learning peut s'appliquer à la génomique en raison du très grand nombre de données exploitées, l'objectif étant de comprendre les liens entre les données pour déduire de nouvelles hypothèses.\n",
    "\n",
    "Dans notre cas, nous chercherons à prédire l'influence de la variation génétique sur les mécanismes de régulation des gènes, comme la receptivité de l'ADN et l'épissage chez les cellules eucaryotes.\n",
    "\n",
    "En particulier, nous allons comprendre comment interpréter la structure de l'ADN de manière à ce que ses informations soient utilisables par des algorithmes de Machine Learning afin de construire un modèle de prédiction basé sur les séquences d'ADN."
   ]
  },
  {
   "cell_type": "markdown",
   "metadata": {},
   "source": [
    "# Représentation d'une séquence ADN\n",
    "\n",
    "L'ADN est une nucléotide composée de quatre types de bases azotées : Adénine (A), Cytosine (C), Guanine (G) et Thymine (T). Ce sont les liaisons hydrogènes qui assurent les liens entre ces composants chimiques en formant une chaîne.\n",
    "\n",
    "L'ADN est le plus souvent représenté par une double hélice formée de deux chaînes. En effet, la deuxième chaîne s'obtient par complémentarité avec la première. Si la première chaîne contient un A (resp. C), alors dans la seconde vous aurez un T (resp. G) par symétrie. Ainsi, en identifiant une chaîne de l'hélice, on peut en déduire la seconde.\n",
    "\n",
    "La séquence de l'ADN ,i.e. l'ordre des bases azotées, détermine les informations biologiques contenues dans un brin d'ADN. Par exemple, la séquence ATCGTT est le marqueur des yeux bleus et ATCGCT celui des yeux marrons."
   ]
  },
  {
   "cell_type": "markdown",
   "metadata": {},
   "source": [
    "# Librairie Biopython : outils computationnels de biologie moléculaire"
   ]
  },
  {
   "cell_type": "code",
   "execution_count": 1,
   "metadata": {
    "execution": {
     "iopub.execute_input": "2021-03-08T09:24:20.970285Z",
     "iopub.status.busy": "2021-03-08T09:24:20.969768Z",
     "iopub.status.idle": "2021-03-08T09:24:21.167393Z",
     "shell.execute_reply": "2021-03-08T09:24:21.168036Z"
    },
    "papermill": {
     "duration": 0.232196,
     "end_time": "2021-03-08T09:24:21.168223",
     "exception": false,
     "start_time": "2021-03-08T09:24:20.936027",
     "status": "completed"
    },
    "tags": []
   },
   "outputs": [],
   "source": [
    "from Bio import SeqIO\n",
    "\n",
    "import matplotlib.pyplot as plt\n",
    "import pandas as pd\n",
    "import numpy as np\n",
    "import os\n",
    "import re\n",
    "\n",
    "from sklearn.preprocessing import LabelEncoder\n",
    "from sklearn.preprocessing import OneHotEncoder\n",
    "from sklearn.feature_extraction.text import CountVectorizer\n",
    "from sklearn.feature_extraction.text import CountVectorizer\n",
    "from sklearn.model_selection import train_test_split\n",
    "from sklearn.naive_bayes import MultinomialNB\n",
    "from sklearn.metrics import accuracy_score, f1_score, precision_score, recall_score"
   ]
  },
  {
   "cell_type": "code",
   "execution_count": 2,
   "metadata": {},
   "outputs": [
    {
     "name": "stdout",
     "output_type": "stream",
     "text": [
      "ID de la séquence : ENST00000435737.5\n",
      "Taille de la séquence : 390\n",
      "-> [ ATGTTTCGCATCACCAACATTGAGTTTCTTCCCGAATACCGACAAAAGGAGTCCAGGGAATTTCTTTCAGTGTCACGGACTGTGCAGCAAGTGATAAACCTGGTTTATACAACATCTGCCTTCTCCAAATTTTATGAGCAGTCTGTTGTTGCAGATGTCAGCAACAACAAAGGCGGCCTCCTTGTCCACTTTTGGATTGTTTTTGTCATGCCACGTGCCAAAGGCCACATCTTCTGTGAAGACTGTGTTGCCGCCATCTTGAAGGACTCCATCCAGACAAGCATCATAAACCGGACCTCTGTGGGGAGCTTGCAGGGACTGGCTGTGGACATGGACTCTGTGGTACTAAATGAAGTCCTGGGGCTGACTCTCATTGTCTGGATTGACTGA ]\n"
     ]
    }
   ],
   "source": [
    "# un exemple de séquence ADN\n",
    "for sequence in SeqIO.parse('data/dna-sequence-dataset/example_dna.fa', \"fasta\"):\n",
    "    print(\"ID de la séquence :\",sequence.id)\n",
    "    print(\"Taille de la séquence :\",len(sequence))\n",
    "    print(\"-> [ {} ]\".format(sequence.seq))\n",
    "    break"
   ]
  },
  {
   "cell_type": "markdown",
   "metadata": {
    "papermill": {
     "duration": 0.043659,
     "end_time": "2021-03-08T09:24:50.806068",
     "exception": false,
     "start_time": "2021-03-08T09:24:50.762409",
     "status": "completed"
    },
    "tags": []
   },
   "source": [
    "# Encodage des séquences ADN\n",
    "\n",
    "Les données dont nous disposons sont sous la forme de chaînes de caractères. Pour qu'elles soient utilisables par un modèle de Machine Learning, nous devons les encoder sous la forme de matrices. Il existe pour cela plusieurs méthodes :\n",
    "\n",
    "- l'encodage ordinal\n",
    "- l'encodage \"one-hot\" (ou \"1 parmi n\")\n",
    "- l'encodage par comptage de k-mer"
   ]
  },
  {
   "cell_type": "markdown",
   "metadata": {},
   "source": [
    "## (1) L'encodage ordinal : on associe une valeur à chaque base azotée"
   ]
  },
  {
   "cell_type": "code",
   "execution_count": 3,
   "metadata": {},
   "outputs": [
    {
     "data": {
      "text/plain": [
       "LabelEncoder()"
      ]
     },
     "execution_count": 3,
     "metadata": {},
     "output_type": "execute_result"
    }
   ],
   "source": [
    "def chaine_vers_tableau(sequence):\n",
    "   sequence = sequence.lower()\n",
    "   sequence = re.sub('[^acgt]', '', sequence)\n",
    "   sequence = np.array(list(sequence))\n",
    "   return sequence\n",
    "\n",
    "# création d'un encodeur à label avec l'alphabet {a,c,g,t}\n",
    "label_encoder = LabelEncoder()\n",
    "label_encoder.fit(np.array(['a','c','g','t']))"
   ]
  },
  {
   "cell_type": "code",
   "execution_count": 4,
   "metadata": {},
   "outputs": [
    {
     "data": {
      "text/plain": [
       "array([1.  , 1.  , 0.5 , 0.25, 0.75, 0.5 , 0.5 , 0.25, 0.75, 1.  , 0.75])"
      ]
     },
     "execution_count": 4,
     "metadata": {},
     "output_type": "execute_result"
    }
   ],
   "source": [
    "def enc_ordinal(tableau):\n",
    "    entier_encode = label_encoder.transform(tableau)\n",
    "    flottant_encode = entier_encode.astype(float)\n",
    "    flottant_encode[flottant_encode == 0] = 0.25 # A\n",
    "    flottant_encode[flottant_encode == 1] = 0.50 # C\n",
    "    flottant_encode[flottant_encode == 2] = 0.75 # G\n",
    "    flottant_encode[flottant_encode == 3] = 1.00 # T\n",
    "    flottant_encode[flottant_encode == 4] = 0.00 # n'importe quelle autre lettre\n",
    "    return flottant_encode\n",
    "\n",
    "# testons le programme sur une courte séquence :\n",
    "sequence_test = 'TTCAGCCAGTG'\n",
    "enc_ordinal(chaine_vers_tableau(sequence_test))"
   ]
  },
  {
   "cell_type": "markdown",
   "metadata": {},
   "source": [
    "## (2) L'encodage \"one-hot\" (ou \"1 parmi n\")\n",
    "\n",
    "L'encodage \"one-hot\" (ou encodage \"1 parmi n\") consiste à encoder une variable à n états sur n bits dont un seul prend la valeur 1, le numéro du bit valant 1 étant le numéro de l'état pris par la variable.\n",
    "\n",
    "Ainsi, \"ATGC\" devient [0,0,0,1], [0,0,1,0], [0,1,0,0], [1,0,0,0] et on pourra ensuite concaténer les vecteurs ou les transformer en tableaux à deux dimensions."
   ]
  },
  {
   "cell_type": "code",
   "execution_count": 5,
   "metadata": {},
   "outputs": [
    {
     "data": {
      "text/plain": [
       "array([[0, 0, 1],\n",
       "       [1, 0, 0],\n",
       "       [1, 0, 0],\n",
       "       [0, 0, 0],\n",
       "       [0, 0, 0],\n",
       "       [0, 1, 0],\n",
       "       [0, 0, 0],\n",
       "       [0, 1, 0],\n",
       "       [0, 0, 1],\n",
       "       [1, 0, 0],\n",
       "       [1, 0, 0]])"
      ]
     },
     "execution_count": 5,
     "metadata": {},
     "output_type": "execute_result"
    }
   ],
   "source": [
    "def enc_one_hot(chaine):\n",
    "    entier_encode = label_encoder.transform(chaine)\n",
    "    onehot_encodeur = OneHotEncoder(sparse=False, dtype=int)\n",
    "    entier_encode = entier_encode.reshape(len(entier_encode), 1)\n",
    "    onehot_encode = onehot_encodeur.fit_transform(entier_encode)\n",
    "    onehot_encode = np.delete(onehot_encode, -1, 1)\n",
    "    return onehot_encode\n",
    "\n",
    "# testons le programme sur une courte séquence :\n",
    "sequence_test = 'GAATTCTCGAA'\n",
    "enc_one_hot(chaine_vers_tableau(sequence_test))"
   ]
  },
  {
   "cell_type": "markdown",
   "metadata": {},
   "source": [
    "## (3) L'encodage par comptage de k-mer \n",
    "\n",
    "Aucune des méthodes précédentes ne permet d'obtenir directement un vecteur de longueur uniforme (nécessaire pour les algorithmes de Machine Learning).\n",
    "\n",
    "Voyons le génome comme un livre : les gènes sont des phrases, les chaînes d'acides aminés sont des mots et les acides et les bases de nucléotides forment l'alphabet. Suivant cette analogie, nous allons implémenter un algorithme de NLP (natural language processing), appelée \"comptage de k-mer\".\n",
    "\n",
    "Ainsi, on prend une longue chaîne biologique que l'on divise en k-mer (chaînes de longueur k). Par exemple, si k=6, alors \"ATGCATGCA\" est divisé en quatre 6-mer (hexamer) : \"ATGCAT\", \"TGCATG\", \"GCATGC\", \"CATGCA\"."
   ]
  },
  {
   "cell_type": "code",
   "execution_count": 6,
   "metadata": {},
   "outputs": [
    {
     "data": {
      "text/plain": [
       "['ATGCA', 'TGCAT', 'GCATG', 'CATGC', 'ATGCA']"
      ]
     },
     "execution_count": 6,
     "metadata": {},
     "output_type": "execute_result"
    }
   ],
   "source": [
    "def kmers(sequence, k):\n",
    "    return [sequence[indice:indice+k].upper() for indice in range(len(sequence) - k + 1)]\n",
    "\n",
    "# testons le programme sur une courte séquence :\n",
    "sequence_test = 'ATGCATGCA'\n",
    "kmers(sequence_test,5)"
   ]
  },
  {
   "cell_type": "markdown",
   "metadata": {},
   "source": [
    "On peut ensuite concaténer les k-mots en une phrase :"
   ]
  },
  {
   "cell_type": "code",
   "execution_count": 7,
   "metadata": {},
   "outputs": [
    {
     "data": {
      "text/plain": [
       "'ATGCA TGCAT GCATG CATGC ATGCA'"
      ]
     },
     "execution_count": 7,
     "metadata": {},
     "output_type": "execute_result"
    }
   ],
   "source": [
    "mots = kmers(sequence_test, 5)\n",
    "phrase = ' '.join(mots)\n",
    "phrase"
   ]
  },
  {
   "cell_type": "markdown",
   "metadata": {},
   "source": [
    "\n",
    "\n",
    "You can tune both the word length and the amount of overlap. This allows you to determine how the DNA sequence information and vocabulary size will be important in your application. For example, if you use words of length 6, and there are 4 letters, you have a vocabulary of size 4096 possible words. You can then go on and create a bag-of-words model like you would in NLP.\n",
    "\n",
    "Let’s make a couple more “sentences” to make it more interesting."
   ]
  },
  {
   "cell_type": "code",
   "execution_count": 8,
   "metadata": {},
   "outputs": [],
   "source": [
    "sequence1 = 'TCTCACACATGTGCCAATCACTGTCACCC'\n",
    "sequence2 = 'GTGCCCAGGTTCAGTGAGTGACACAGGCAG'\n",
    "phrase1 = ' '.join(kmers(sequence1, 6))\n",
    "phrase2 = ' '.join(kmers(sequence2, 6))"
   ]
  },
  {
   "cell_type": "code",
   "execution_count": 10,
   "metadata": {},
   "outputs": [
    {
     "data": {
      "text/plain": [
       "array([[0, 0, 0, 0, 0, 0, 0, 0, 0, 0, 0, 2, 0, 0, 0, 0, 0, 0, 0, 0, 0, 1,\n",
       "        0, 0, 0, 0, 0, 0, 0, 0, 1, 0, 0, 0, 0, 0, 0, 0, 0, 0, 0, 0, 0, 0,\n",
       "        0, 0, 0, 1, 0, 0, 0, 0, 0],\n",
       "       [1, 0, 1, 0, 1, 1, 0, 0, 0, 0, 1, 0, 1, 1, 1, 0, 1, 1, 0, 0, 0, 0,\n",
       "        1, 1, 0, 0, 1, 1, 0, 0, 0, 1, 0, 0, 1, 0, 0, 1, 0, 0, 1, 1, 1, 0,\n",
       "        1, 0, 0, 0, 1, 0, 1, 1, 0],\n",
       "       [0, 1, 0, 1, 0, 0, 1, 1, 1, 1, 0, 0, 0, 0, 0, 1, 0, 0, 1, 1, 1, 0,\n",
       "        0, 0, 1, 1, 0, 0, 1, 1, 0, 0, 1, 1, 0, 1, 1, 0, 1, 1, 0, 0, 0, 1,\n",
       "        0, 1, 1, 0, 0, 1, 0, 0, 1]], dtype=int64)"
      ]
     },
     "execution_count": 10,
     "metadata": {},
     "output_type": "execute_result"
    }
   ],
   "source": [
    "# on construit ensuite le modèle de sac-de-mots\n",
    "cv = CountVectorizer()\n",
    "X = cv.fit_transform([phrase, phrase1, phrase2]).toarray()\n",
    "X"
   ]
  },
  {
   "cell_type": "markdown",
   "metadata": {},
   "source": [
    "# Contexte et objectifs du projet\n",
    "\n",
    "Maintenant que nous savons comment extraire une matrice contenant les informations contenues dans une séquence d'ADN, on va pouvoir utiliser ces données et les appliquer dans le cadre du Machine Learning.\n",
    "\n",
    "Notre objectif est de construire un modèle de classification qui prend des séquences d'ADN humain comme données d'entraînement et peut ensuite prédire la \"famille\" à laquelle appartient tel ou tel gène. Contrairement aux données d'entraînement, les données de test seront plus diversifiées et l'ADN pourra venir d'un humain, d'un chien ou d'un chimpanzé. On pourra alors étudier les conséquences de cette diversification génétique sur les performances du modèle.\n",
    "\n",
    "La \"famille\" d'un gène est un groupe de gènes apparentés qui partagent un ancêtre en commun. Deux gènes d'une même famille peuvent être paralogues ou orthologues. Des gènes paralogues ont des séquences similaires au sein d'une même espèce tandis que des gènes paralogues ont des séquences similaires au sein d'espèces différentes."
   ]
  },
  {
   "cell_type": "markdown",
   "metadata": {},
   "source": [
    "# Chargement des séquences ADN"
   ]
  },
  {
   "cell_type": "markdown",
   "metadata": {},
   "source": [
    "**ADN Humain**"
   ]
  },
  {
   "cell_type": "code",
   "execution_count": 11,
   "metadata": {},
   "outputs": [
    {
     "data": {
      "text/html": [
       "<div>\n",
       "<style scoped>\n",
       "    .dataframe tbody tr th:only-of-type {\n",
       "        vertical-align: middle;\n",
       "    }\n",
       "\n",
       "    .dataframe tbody tr th {\n",
       "        vertical-align: top;\n",
       "    }\n",
       "\n",
       "    .dataframe thead th {\n",
       "        text-align: right;\n",
       "    }\n",
       "</style>\n",
       "<table border=\"1\" class=\"dataframe\">\n",
       "  <thead>\n",
       "    <tr style=\"text-align: right;\">\n",
       "      <th></th>\n",
       "      <th>sequence</th>\n",
       "      <th>class</th>\n",
       "    </tr>\n",
       "  </thead>\n",
       "  <tbody>\n",
       "    <tr>\n",
       "      <th>0</th>\n",
       "      <td>ATGCCCCAACTAAATACTACCGTATGGCCCACCATAATTACCCCCA...</td>\n",
       "      <td>4</td>\n",
       "    </tr>\n",
       "    <tr>\n",
       "      <th>1</th>\n",
       "      <td>ATGAACGAAAATCTGTTCGCTTCATTCATTGCCCCCACAATCCTAG...</td>\n",
       "      <td>4</td>\n",
       "    </tr>\n",
       "    <tr>\n",
       "      <th>2</th>\n",
       "      <td>ATGTGTGGCATTTGGGCGCTGTTTGGCAGTGATGATTGCCTTTCTG...</td>\n",
       "      <td>3</td>\n",
       "    </tr>\n",
       "    <tr>\n",
       "      <th>3</th>\n",
       "      <td>ATGTGTGGCATTTGGGCGCTGTTTGGCAGTGATGATTGCCTTTCTG...</td>\n",
       "      <td>3</td>\n",
       "    </tr>\n",
       "    <tr>\n",
       "      <th>4</th>\n",
       "      <td>ATGCAACAGCATTTTGAATTTGAATACCAGACCAAAGTGGATGGTG...</td>\n",
       "      <td>3</td>\n",
       "    </tr>\n",
       "  </tbody>\n",
       "</table>\n",
       "</div>"
      ],
      "text/plain": [
       "                                            sequence  class\n",
       "0  ATGCCCCAACTAAATACTACCGTATGGCCCACCATAATTACCCCCA...      4\n",
       "1  ATGAACGAAAATCTGTTCGCTTCATTCATTGCCCCCACAATCCTAG...      4\n",
       "2  ATGTGTGGCATTTGGGCGCTGTTTGGCAGTGATGATTGCCTTTCTG...      3\n",
       "3  ATGTGTGGCATTTGGGCGCTGTTTGGCAGTGATGATTGCCTTTCTG...      3\n",
       "4  ATGCAACAGCATTTTGAATTTGAATACCAGACCAAAGTGGATGGTG...      3"
      ]
     },
     "execution_count": 11,
     "metadata": {},
     "output_type": "execute_result"
    }
   ],
   "source": [
    "adn_humain = pd.read_table('data/dna-sequence-dataset/human.txt')\n",
    "adn_humain.head()"
   ]
  },
  {
   "cell_type": "code",
   "execution_count": 12,
   "metadata": {},
   "outputs": [
    {
     "data": {
      "text/plain": [
       "Text(0.5, 1.0, \"Distribution des classes dans l'ADN humain\")"
      ]
     },
     "execution_count": 12,
     "metadata": {},
     "output_type": "execute_result"
    },
    {
     "data": {
      "image/png": "[encoded data removed]",
      "text/plain": [
       "<Figure size 640x480 with 1 Axes>"
      ]
     },
     "metadata": {},
     "output_type": "display_data"
    }
   ],
   "source": [
    "adn_humain['class'].value_counts().sort_index().plot.bar()\n",
    "plt.title(\"Distribution des classes dans l'ADN humain\")"
   ]
  },
  {
   "cell_type": "markdown",
   "metadata": {},
   "source": [
    "**ADN de Chimpanzé**"
   ]
  },
  {
   "cell_type": "code",
   "execution_count": 13,
   "metadata": {},
   "outputs": [
    {
     "data": {
      "text/html": [
       "<div>\n",
       "<style scoped>\n",
       "    .dataframe tbody tr th:only-of-type {\n",
       "        vertical-align: middle;\n",
       "    }\n",
       "\n",
       "    .dataframe tbody tr th {\n",
       "        vertical-align: top;\n",
       "    }\n",
       "\n",
       "    .dataframe thead th {\n",
       "        text-align: right;\n",
       "    }\n",
       "</style>\n",
       "<table border=\"1\" class=\"dataframe\">\n",
       "  <thead>\n",
       "    <tr style=\"text-align: right;\">\n",
       "      <th></th>\n",
       "      <th>sequence</th>\n",
       "      <th>class</th>\n",
       "    </tr>\n",
       "  </thead>\n",
       "  <tbody>\n",
       "    <tr>\n",
       "      <th>0</th>\n",
       "      <td>ATGCCCCAACTAAATACCGCCGTATGACCCACCATAATTACCCCCA...</td>\n",
       "      <td>4</td>\n",
       "    </tr>\n",
       "    <tr>\n",
       "      <th>1</th>\n",
       "      <td>ATGAACGAAAATCTATTCGCTTCATTCGCTGCCCCCACAATCCTAG...</td>\n",
       "      <td>4</td>\n",
       "    </tr>\n",
       "    <tr>\n",
       "      <th>2</th>\n",
       "      <td>ATGGCCTCGCGCTGGTGGCGGTGGCGACGCGGCTGCTCCTGGAGGC...</td>\n",
       "      <td>4</td>\n",
       "    </tr>\n",
       "    <tr>\n",
       "      <th>3</th>\n",
       "      <td>ATGGCCTCGCGCTGGTGGCGGTGGCGACGCGGCTGCTCCTGGAGGC...</td>\n",
       "      <td>4</td>\n",
       "    </tr>\n",
       "    <tr>\n",
       "      <th>4</th>\n",
       "      <td>ATGGGCAGCGCCAGCCCGGGTCTGAGCAGCGTGTCCCCCAGCCACC...</td>\n",
       "      <td>6</td>\n",
       "    </tr>\n",
       "  </tbody>\n",
       "</table>\n",
       "</div>"
      ],
      "text/plain": [
       "                                            sequence  class\n",
       "0  ATGCCCCAACTAAATACCGCCGTATGACCCACCATAATTACCCCCA...      4\n",
       "1  ATGAACGAAAATCTATTCGCTTCATTCGCTGCCCCCACAATCCTAG...      4\n",
       "2  ATGGCCTCGCGCTGGTGGCGGTGGCGACGCGGCTGCTCCTGGAGGC...      4\n",
       "3  ATGGCCTCGCGCTGGTGGCGGTGGCGACGCGGCTGCTCCTGGAGGC...      4\n",
       "4  ATGGGCAGCGCCAGCCCGGGTCTGAGCAGCGTGTCCCCCAGCCACC...      6"
      ]
     },
     "execution_count": 13,
     "metadata": {},
     "output_type": "execute_result"
    }
   ],
   "source": [
    "adn_chimp = pd.read_table('data/dna-sequence-dataset/chimpanzee.txt')\n",
    "adn_chimp.head()"
   ]
  },
  {
   "cell_type": "code",
   "execution_count": 14,
   "metadata": {},
   "outputs": [
    {
     "data": {
      "text/plain": [
       "Text(0.5, 1.0, \"Distribution des classes dans l'ADN des chimpanzés\")"
      ]
     },
     "execution_count": 14,
     "metadata": {},
     "output_type": "execute_result"
    },
    {
     "data": {
      "image/png": "[encoded data removed]",
      "text/plain": [
       "<Figure size 640x480 with 1 Axes>"
      ]
     },
     "metadata": {},
     "output_type": "display_data"
    }
   ],
   "source": [
    "adn_chimp['class'].value_counts().sort_index().plot.bar()\n",
    "plt.title(\"Distribution des classes dans l'ADN des chimpanzés\")"
   ]
  },
  {
   "cell_type": "markdown",
   "metadata": {},
   "source": [
    "**ADN de Chien**"
   ]
  },
  {
   "cell_type": "code",
   "execution_count": 15,
   "metadata": {},
   "outputs": [
    {
     "data": {
      "text/html": [
       "<div>\n",
       "<style scoped>\n",
       "    .dataframe tbody tr th:only-of-type {\n",
       "        vertical-align: middle;\n",
       "    }\n",
       "\n",
       "    .dataframe tbody tr th {\n",
       "        vertical-align: top;\n",
       "    }\n",
       "\n",
       "    .dataframe thead th {\n",
       "        text-align: right;\n",
       "    }\n",
       "</style>\n",
       "<table border=\"1\" class=\"dataframe\">\n",
       "  <thead>\n",
       "    <tr style=\"text-align: right;\">\n",
       "      <th></th>\n",
       "      <th>sequence</th>\n",
       "      <th>class</th>\n",
       "    </tr>\n",
       "  </thead>\n",
       "  <tbody>\n",
       "    <tr>\n",
       "      <th>0</th>\n",
       "      <td>ATGCCACAGCTAGATACATCCACCTGATTTATTATAATCTTTTCAA...</td>\n",
       "      <td>4</td>\n",
       "    </tr>\n",
       "    <tr>\n",
       "      <th>1</th>\n",
       "      <td>ATGAACGAAAATCTATTCGCTTCTTTCGCTGCCCCCTCAATAATAG...</td>\n",
       "      <td>4</td>\n",
       "    </tr>\n",
       "    <tr>\n",
       "      <th>2</th>\n",
       "      <td>ATGGAAACACCCTTCTACGGCGATGAGGCGCTGAGCGGCCTGGGCG...</td>\n",
       "      <td>6</td>\n",
       "    </tr>\n",
       "    <tr>\n",
       "      <th>3</th>\n",
       "      <td>ATGTGCACTAAAATGGAACAGCCCTTCTACCACGACGACTCATACG...</td>\n",
       "      <td>6</td>\n",
       "    </tr>\n",
       "    <tr>\n",
       "      <th>4</th>\n",
       "      <td>ATGAGCCGGCAGCTAAACAGAAGCCAGAACTGCTCCTTCAGTGACG...</td>\n",
       "      <td>0</td>\n",
       "    </tr>\n",
       "  </tbody>\n",
       "</table>\n",
       "</div>"
      ],
      "text/plain": [
       "                                            sequence  class\n",
       "0  ATGCCACAGCTAGATACATCCACCTGATTTATTATAATCTTTTCAA...      4\n",
       "1  ATGAACGAAAATCTATTCGCTTCTTTCGCTGCCCCCTCAATAATAG...      4\n",
       "2  ATGGAAACACCCTTCTACGGCGATGAGGCGCTGAGCGGCCTGGGCG...      6\n",
       "3  ATGTGCACTAAAATGGAACAGCCCTTCTACCACGACGACTCATACG...      6\n",
       "4  ATGAGCCGGCAGCTAAACAGAAGCCAGAACTGCTCCTTCAGTGACG...      0"
      ]
     },
     "execution_count": 15,
     "metadata": {},
     "output_type": "execute_result"
    }
   ],
   "source": [
    "adn_chien = pd.read_table('data/dna-sequence-dataset/dog.txt')\n",
    "adn_chien.head()"
   ]
  },
  {
   "cell_type": "code",
   "execution_count": 16,
   "metadata": {},
   "outputs": [
    {
     "data": {
      "text/plain": [
       "Text(0.5, 1.0, \"Distribution des classes dans l'ADN des chiens\")"
      ]
     },
     "execution_count": 16,
     "metadata": {},
     "output_type": "execute_result"
    },
    {
     "data": {
      "image/png": "[encoded data removed]",
      "text/plain": [
       "<Figure size 640x480 with 1 Axes>"
      ]
     },
     "metadata": {},
     "output_type": "display_data"
    }
   ],
   "source": [
    "adn_chien['class'].value_counts().sort_index().plot.bar()\n",
    "plt.title(\"Distribution des classes dans l'ADN des chiens\")"
   ]
  },
  {
   "cell_type": "markdown",
   "metadata": {},
   "source": [
    "Dans les bases de données de l'ADN humain, les 7 classes et leurs effectifs sont les suivantes :\n",
    "- 0 : G protein couples receptors (nb = 531)\n",
    "- 1 : Tyrosine kinase (nb = 534)\n",
    "- 2 : Tyrosine phosphatase (nb = 349)\n",
    "- 3 : Synthetase (nb = 672)\n",
    "- 4 : Synthase (nb = 711)\n",
    "- 5 : Ion channel (nb = 240)\n",
    "- 6 : Transcription factor (nb = 1343)"
   ]
  },
  {
   "cell_type": "markdown",
   "metadata": {},
   "source": [
    "# Collecte des hexamères\n",
    "\n",
    "Maintenant que nos données sont chargées, l'étape suivante est de convertir une suite de caractères en mots k-mer, en particulier en hexamères (k=6). La fonction kmers() va collecter tous les k-mers possibles (avec chevauchement)."
   ]
  },
  {
   "cell_type": "code",
   "execution_count": 17,
   "metadata": {},
   "outputs": [],
   "source": [
    "def kmers(seq, size=6):\n",
    "    return [seq[x:x+size].upper() for x in range(len(seq) - size + 1)]\n",
    "\n",
    "# nos séquences utilisées comme données d'entraînement sont converties en hexamères\n",
    "# on applique ensuite le même procédé aux espèces différentes\n",
    "\n",
    "adn_humain['words'] = adn_humain.apply(lambda x: kmers(x['sequence']), axis=1)\n",
    "adn_humain = adn_humain.drop('sequence', axis=1)\n",
    "\n",
    "adn_chimp['words'] = adn_chimp.apply(lambda x: kmers(x['sequence']), axis=1)\n",
    "adn_chimp = adn_chimp.drop('sequence', axis=1)\n",
    "\n",
    "adn_chien['words'] = adn_chien.apply(lambda x: kmers(x['sequence']), axis=1)\n",
    "adn_chien = adn_chien.drop('sequence', axis=1)\n",
    "\n",
    "# NB : recharger les données avant de ré-exécuter cette cellule deux fois de suite"
   ]
  },
  {
   "cell_type": "code",
   "execution_count": 18,
   "metadata": {},
   "outputs": [
    {
     "data": {
      "text/html": [
       "<div>\n",
       "<style scoped>\n",
       "    .dataframe tbody tr th:only-of-type {\n",
       "        vertical-align: middle;\n",
       "    }\n",
       "\n",
       "    .dataframe tbody tr th {\n",
       "        vertical-align: top;\n",
       "    }\n",
       "\n",
       "    .dataframe thead th {\n",
       "        text-align: right;\n",
       "    }\n",
       "</style>\n",
       "<table border=\"1\" class=\"dataframe\">\n",
       "  <thead>\n",
       "    <tr style=\"text-align: right;\">\n",
       "      <th></th>\n",
       "      <th>class</th>\n",
       "      <th>words</th>\n",
       "    </tr>\n",
       "  </thead>\n",
       "  <tbody>\n",
       "    <tr>\n",
       "      <th>0</th>\n",
       "      <td>4</td>\n",
       "      <td>[ATGCCC, TGCCCC, GCCCCA, CCCCAA, CCCAAC, CCAAC...</td>\n",
       "    </tr>\n",
       "    <tr>\n",
       "      <th>1</th>\n",
       "      <td>4</td>\n",
       "      <td>[ATGAAC, TGAACG, GAACGA, AACGAA, ACGAAA, CGAAA...</td>\n",
       "    </tr>\n",
       "    <tr>\n",
       "      <th>2</th>\n",
       "      <td>3</td>\n",
       "      <td>[ATGTGT, TGTGTG, GTGTGG, TGTGGC, GTGGCA, TGGCA...</td>\n",
       "    </tr>\n",
       "    <tr>\n",
       "      <th>3</th>\n",
       "      <td>3</td>\n",
       "      <td>[ATGTGT, TGTGTG, GTGTGG, TGTGGC, GTGGCA, TGGCA...</td>\n",
       "    </tr>\n",
       "    <tr>\n",
       "      <th>4</th>\n",
       "      <td>3</td>\n",
       "      <td>[ATGCAA, TGCAAC, GCAACA, CAACAG, AACAGC, ACAGC...</td>\n",
       "    </tr>\n",
       "  </tbody>\n",
       "</table>\n",
       "</div>"
      ],
      "text/plain": [
       "   class                                              words\n",
       "0      4  [ATGCCC, TGCCCC, GCCCCA, CCCCAA, CCCAAC, CCAAC...\n",
       "1      4  [ATGAAC, TGAACG, GAACGA, AACGAA, ACGAAA, CGAAA...\n",
       "2      3  [ATGTGT, TGTGTG, GTGTGG, TGTGGC, GTGGCA, TGGCA...\n",
       "3      3  [ATGTGT, TGTGTG, GTGTGG, TGTGGC, GTGGCA, TGGCA...\n",
       "4      3  [ATGCAA, TGCAAC, GCAACA, CAACAG, AACAGC, ACAGC..."
      ]
     },
     "execution_count": 18,
     "metadata": {},
     "output_type": "execute_result"
    }
   ],
   "source": [
    "adn_humain.head()"
   ]
  },
  {
   "cell_type": "markdown",
   "metadata": {},
   "source": [
    "Nous avons désormais besoin, pour chaque gène, de convertir les listes d'hexamères en phrases de mots pour pouvoir créer le modèle \"sac de mots\" que nous souhaitons mettre en place. De plus, on va définir une variable y qui jouera le rôle de cible."
   ]
  },
  {
   "cell_type": "code",
   "execution_count": 19,
   "metadata": {},
   "outputs": [],
   "source": [
    "humain_texte = list(adn_humain['words'])\n",
    "for i in range(len(humain_texte)):\n",
    "    humain_texte[i] = ' '.join(humain_texte[i])\n",
    "\n",
    "chimp_texte = list(adn_chimp['words'])\n",
    "for i in range(len(chimp_texte)):\n",
    "    chimp_texte[i] = ' '.join(chimp_texte[i])\n",
    "\n",
    "chien_texte = list(adn_chien['words'])\n",
    "for i in range(len(chien_texte)):\n",
    "    chien_texte[i] = ' '.join(chien_texte[i])\n",
    "\n",
    "# les labels sont séparés\n",
    "y_humain = adn_humain.iloc[:, 0].values\n",
    "y_chimp = adn_chimp.iloc[:, 0].values\n",
    "y_chien = adn_chien.iloc[:, 0].values"
   ]
  },
  {
   "cell_type": "code",
   "execution_count": 20,
   "metadata": {},
   "outputs": [
    {
     "data": {
      "text/plain": [
       "array([4, 4, 3, ..., 6, 6, 6], dtype=int64)"
      ]
     },
     "execution_count": 20,
     "metadata": {},
     "output_type": "execute_result"
    }
   ],
   "source": [
    "y_humain"
   ]
  },
  {
   "cell_type": "markdown",
   "metadata": {},
   "source": [
    "La variable cible contient ainsi un tableau de classes.\n",
    "\n",
    "On va ensuite utiliser le \"sac de mots\" via CountVectorizer(), c'est l'équivalent du comptage de k-mer. Par défaut, on utilisera des n-grammes (sous-séquences de n éléments) et on va convertir nos k-mers en vecteurs numériques de longueur uniforme dont le rôle sera de représenter le compte de chacun des k-mers."
   ]
  },
  {
   "cell_type": "code",
   "execution_count": 21,
   "metadata": {},
   "outputs": [],
   "source": [
    "cv = CountVectorizer(ngram_range=(4,4))\n",
    "X_humain = cv.fit_transform(humain_texte)\n",
    "X_chimp = cv.transform(chimp_texte)\n",
    "X_chien = cv.transform(chien_texte)"
   ]
  },
  {
   "cell_type": "code",
   "execution_count": 23,
   "metadata": {},
   "outputs": [
    {
     "name": "stdout",
     "output_type": "stream",
     "text": [
      "Pour les humains, on a 4380 gènes convertis en vectors de taille uniforme pour le comptage des hexamères 4-grammes.\n",
      "\n",
      "Pour les chimpanzés, on a 1682 gènes convertis en vectors de taille uniforme pour le comptage des hexamères 4-grammes\n",
      "\n",
      "Pour les chiens, on a 820 gènes convertis en vectors de taille uniforme pour le comptage des hexamères 4-grammes.\n"
     ]
    }
   ],
   "source": [
    "print(\"Pour les humains, on a {} gènes convertis en vectors de taille uniforme pour le comptage des hexamères 4-grammes.\\n\".format(X_humain.shape[0]))\n",
    "print(\"Pour les chimpanzés, on a {} gènes convertis en vectors de taille uniforme pour le comptage des hexamères 4-grammes\\n\".format(X_chimp.shape[0]))\n",
    "print(\"Pour les chiens, on a {} gènes convertis en vectors de taille uniforme pour le comptage des hexamères 4-grammes.\".format(X_chien.shape[0]))"
   ]
  },
  {
   "cell_type": "markdown",
   "metadata": {},
   "source": [
    "Maintenant que l'on sait comment transformer les séquences d'ADN en vecteurs numériques de longueur uniforme pour le comptage des k-mers et n-grammes, nous pouvons désormais aller plus loin et concevoir un modèle de classification qui prédit la fonction d'une séquence d'ADN en fonction de cette même séquence.\n",
    "\n",
    "Nous n'utiliserons que de l'ADN humain pour entraîner le modèle, avec 20% de l'ADN humain utilisé comme données de test. L'objectif est d'avoir un modèle généralisé, donc on pourra appliquer le modèle sur de l'ADN issu d'espèces différentes (ici de chimpanzés et de chiens).\n",
    "\n",
    "On construit donc un modèle de classification naïve bayésienne (naïve car on suppose une forte indépendance des hypothèses).\n",
    "\n",
    "**NB :** Pour observer des fluctuations et optimiser le modèle, on pourra faire varier les paramètres et construire des modèles avec différentes tailles de n-grammes et différentes valeurs pour alpha."
   ]
  },
  {
   "cell_type": "code",
   "execution_count": 24,
   "metadata": {},
   "outputs": [],
   "source": [
    "# on sépare les données d'ADN humain en sous-ensembles d'entraînement et de test\n",
    "X_train, X_test, y_train, y_test = train_test_split(X_humain, y_humain, test_size = 0.20, random_state=42)"
   ]
  },
  {
   "cell_type": "markdown",
   "metadata": {},
   "source": [
    "On va créer un classifieur naïf bayésien et multinomial. Après plusieurs essais, les valeurs les plus optimisées la taille des n-grammes est 4, et alpha = 0.1"
   ]
  },
  {
   "cell_type": "code",
   "execution_count": 25,
   "metadata": {},
   "outputs": [
    {
     "data": {
      "text/plain": [
       "MultinomialNB(alpha=0.1)"
      ]
     },
     "execution_count": 25,
     "metadata": {},
     "output_type": "execute_result"
    }
   ],
   "source": [
    "classifieur = MultinomialNB(alpha=0.1)\n",
    "classifieur.fit(X_train, y_train)"
   ]
  },
  {
   "cell_type": "markdown",
   "metadata": {},
   "source": [
    "# Prédictions sur les données de test"
   ]
  },
  {
   "cell_type": "code",
   "execution_count": 26,
   "metadata": {},
   "outputs": [],
   "source": [
    "y_pred = classifieur.predict(X_test)"
   ]
  },
  {
   "cell_type": "markdown",
   "metadata": {},
   "source": [
    "On veut étudier les performances du modèle donc on va s'intéresser en détail à plusieurs métriques : la précision (bonnes prédictions parmi toutes les prédictions sélectionnées), le rappel (bonnes prédictions parmi toutes les prédictions sélectionnables), l'exactitude (accuracy), le score F1 (moyenne harmonique entre la précision et le rappel) ainsi que la matrice de confusion."
   ]
  },
  {
   "cell_type": "code",
   "execution_count": 27,
   "metadata": {},
   "outputs": [
    {
     "name": "stdout",
     "output_type": "stream",
     "text": [
      "Matrice de confusion pour des prédictions sur des séquences d'ADN humain :\n",
      "\n",
      "Prédiction   0    1   2    3    4   5    6\n",
      "Réalité                                   \n",
      "0           99    0   0    0    1   0    2\n",
      "1            0  104   0    0    0   0    2\n",
      "2            0    0  78    0    0   0    0\n",
      "3            0    0   0  124    0   0    1\n",
      "4            1    0   0    0  143   0    5\n",
      "5            0    0   0    0    0  51    0\n",
      "6            1    0   0    1    0   0  263\n",
      "\n",
      "exactitude = 0.9840182648401826 \n",
      "précision  = 0.984290543482443 \n",
      "rappel     = 0.9840182648401826 \n",
      "score F1   = 0.9840270014702487\n"
     ]
    }
   ],
   "source": [
    "print(\"Matrice de confusion pour des prédictions sur des séquences d'ADN humain :\\n\")\n",
    "print(pd.crosstab(pd.Series(y_test, name='Réalité'), pd.Series(y_pred, name='Prédiction')))\n",
    "\n",
    "def métriques(y_test, y_predicted):\n",
    "    accuracy = accuracy_score(y_test, y_predicted)\n",
    "    precision = precision_score(y_test, y_predicted, average='weighted')\n",
    "    recall = recall_score(y_test, y_predicted, average='weighted')\n",
    "    f1 = f1_score(y_test, y_predicted, average='weighted')\n",
    "    return accuracy, precision, recall, f1\n",
    "\n",
    "accuracy, precision, recall, f1 = métriques(y_test, y_pred)\n",
    "\n",
    "print(\"\\nexactitude = {} \\nprécision  = {} \\nrappel     = {} \\nscore F1   = {}\".format(accuracy, precision, recall, f1))"
   ]
  },
  {
   "cell_type": "markdown",
   "metadata": {},
   "source": [
    "On a testé le modèle sur de l'ADN humain alors qu'il avait appris sur de l'ADN humain. On a logiquement obtenu de très bons résultats. Maintenant, mettons notre modèle à l'épreuve en le confrontant à de l'ADN d'autres espèces (chimpanzés et chiens)."
   ]
  },
  {
   "cell_type": "markdown",
   "metadata": {},
   "source": [
    "D'abord, l'ADN de chimpanzés. On s'attend à ce que ça fonctionne bien car le chimpanzé et l'homme sont très proches biologiquement puisqu'ils partagent un ancêtre commun."
   ]
  },
  {
   "cell_type": "code",
   "execution_count": 28,
   "metadata": {},
   "outputs": [],
   "source": [
    "y_pred_chimp = classifieur.predict(X_chimp)"
   ]
  },
  {
   "cell_type": "code",
   "execution_count": 31,
   "metadata": {},
   "outputs": [
    {
     "name": "stdout",
     "output_type": "stream",
     "text": [
      "Matrice de confusion pour des prédictions sur des séquences d'ADN de chimpanzés :\n",
      "\n",
      "Prédiction    0    1    2    3    4    5    6\n",
      "Réalité                                      \n",
      "0           232    0    0    0    0    0    2\n",
      "1             0  184    0    0    0    0    1\n",
      "2             0    0  144    0    0    0    0\n",
      "3             0    0    0  227    0    0    1\n",
      "4             2    0    0    0  254    0    5\n",
      "5             0    0    0    0    0  109    0\n",
      "6             0    0    0    0    0    0  521\n",
      "\n",
      "exactitude = 0.9934601664684899 \n",
      "précision  = 0.993551028649631 \n",
      "rappel     = 0.9934601664684899 \n",
      "score F1   = 0.993453334125236\n"
     ]
    }
   ],
   "source": [
    "print(\"Matrice de confusion pour des prédictions sur des séquences d'ADN de chimpanzés :\\n\")\n",
    "print(pd.crosstab(pd.Series(y_chimp, name='Réalité'), pd.Series(y_pred_chimp, name='Prédiction')))\n",
    "\n",
    "accuracy, precision, recall, f1 = métriques(y_chimp, y_pred_chimp)\n",
    "\n",
    "print(\"\\nexactitude = {} \\nprécision  = {} \\nrappel     = {} \\nscore F1   = {}\".format(accuracy, precision, recall, f1))"
   ]
  },
  {
   "cell_type": "markdown",
   "metadata": {},
   "source": [
    "Désormais, testons le modèle sur de l'AND de chien, on s'attend à des performances moins bonnes."
   ]
  },
  {
   "cell_type": "code",
   "execution_count": 32,
   "metadata": {},
   "outputs": [],
   "source": [
    "y_pred_chien = classifieur.predict(X_chien)"
   ]
  },
  {
   "cell_type": "code",
   "execution_count": 33,
   "metadata": {},
   "outputs": [
    {
     "name": "stdout",
     "output_type": "stream",
     "text": [
      "Matrice de confusion pour des prédictions sur des séquences d'ADN de chiens :\n",
      "\n",
      "Predicted    0   1   2   3    4   5    6\n",
      "Actual                                  \n",
      "0          127   0   0   0    0   0    4\n",
      "1            0  63   0   0    1   0   11\n",
      "2            0   0  49   0    1   0   14\n",
      "3            1   0   0  81    2   0   11\n",
      "4            4   0   0   1  126   0    4\n",
      "5            4   0   0   0    1  53    2\n",
      "6            0   0   0   0    0   0  260\n",
      "\n",
      "exactitude = 0.925609756097561 \n",
      "précision  = 0.9340667154775472 \n",
      "rappel     = 0.925609756097561 \n",
      "score F1   = 0.9251228556957126\n"
     ]
    }
   ],
   "source": [
    "print(\"Matrice de confusion pour des prédictions sur des séquences d'ADN de chiens :\\n\")\n",
    "print(pd.crosstab(pd.Series(y_chien, name='Actual'), pd.Series(y_pred_chien, name='Predicted')))\n",
    "\n",
    "accuracy, precision, recall, f1 = métriques(y_chien, y_pred_chien)\n",
    "\n",
    "print(\"\\nexactitude = {} \\nprécision  = {} \\nrappel     = {} \\nscore F1   = {}\".format(accuracy, precision, recall, f1))"
   ]
  },
  {
   "cell_type": "markdown",
   "metadata": {},
   "source": [
    "**Observations :** Comme prévu, le modèle produit de très bons résultats sur l'ADN humain et sur celui des chimpanzés, qui partagent un ancêtre commun avec l'homme. En revanche, le modèle a plus de mal à classifier l'ADN chez les espèces génétiquement éloignées de l'homme."
   ]
  }
 ],
 "metadata": {
  "kernelspec": {
   "display_name": "Python 3 (ipykernel)",
   "language": "python",
   "name": "python3"
  },
  "language_info": {
   "codemirror_mode": {
    "name": "ipython",
    "version": 3
   },
   "file_extension": ".py",
   "mimetype": "text/x-python",
   "name": "python",
   "nbconvert_exporter": "python",
   "pygments_lexer": "ipython3",
   "version": "3.9.13"
  },
  "papermill": {
   "duration": 34.429677,
   "end_time": "2021-03-08T09:24:50.956898",
   "environment_variables": {},
   "exception": null,
   "input_path": "__notebook__.ipynb",
   "output_path": "__notebook__.ipynb",
   "parameters": {},
   "start_time": "2021-03-08T09:24:16.527221",
   "version": "2.1.0"
  }
 },
 "nbformat": 4,
 "nbformat_minor": 4
}
